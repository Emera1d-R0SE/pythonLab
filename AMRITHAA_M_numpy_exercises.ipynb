{
  "cells": [
    {
      "cell_type": "markdown",
      "metadata": {
        "id": "7CKp0IlziMeb"
      },
      "source": [
        "# NumPy Practice\n",
        "\n",
        "This notebook offers a set of exercises for different tasks with NumPy.\n",
        "\n",
        "It should be noted there may be more than one different way to answer a question or complete an exercise.\n",
        "\n",
        "Exercises are based off (and directly taken from) the quick introduction to NumPy notebook.\n",
        "\n",
        "Different tasks will be detailed by comments or text.\n",
        "\n",
        "For further reference and resources, it's advised to check out the [NumPy documentation](https://numpy.org/devdocs/user/index.html).\n",
        "\n",
        "And if you get stuck, try searching for a question in the following format: \"how to do XYZ with numpy\", where XYZ is the function you want to leverage from NumPy."
      ]
    },
    {
      "cell_type": "code",
      "execution_count": null,
      "metadata": {
        "id": "TBD3zQlXiMei"
      },
      "outputs": [],
      "source": [
        "# Import NumPy as its abbreviation 'np'\n"
      ]
    },
    {
      "cell_type": "code",
      "execution_count": null,
      "metadata": {
        "colab": {
          "base_uri": "https://localhost:8080/"
        },
        "id": "9cuwCCV5iMel",
        "outputId": "c6a64bb1-c015-4880-fa19-9ba9f2a2395a"
      },
      "outputs": [
        {
          "output_type": "stream",
          "name": "stdout",
          "text": [
            "1d array [1 2 3 4]\n",
            "2d array:  [[1 2 3 4]\n",
            " [5 6 7 8]]\n",
            "3d array:  [[1 2 3 4]\n",
            " [5 6 7 8]\n",
            " [9 3 4 5]]\n"
          ]
        }
      ],
      "source": [
        "# Create a 1-dimensional NumPy array using np.array()\n",
        "import numpy as np\n",
        "data1 = [1, 2, 3, 4]\n",
        "arr1 = np.array(data1)\n",
        "print(\"1d array\", arr1)\n",
        "# Create a 2-dimensional NumPy array using np.array()\n",
        "data2 = [[1, 2, 3, 4], [5, 6, 7, 8]]\n",
        "arr2 = np.array(data2)\n",
        "print(\"2d array: \",arr2)\n",
        "# Create a 3-dimensional Numpy array using np.array()\n",
        "data3 = [[1, 2, 3, 4], [5, 6, 7, 8],[9, 3, 4, 5]]\n",
        "arr3 = np.array(data3)\n",
        "print(\"3d array: \", arr3)"
      ]
    },
    {
      "cell_type": "markdown",
      "metadata": {
        "id": "y6oSLfFDiMem"
      },
      "source": [
        "Now we've you've created 3 different arrays, let's find details about them.\n",
        "\n",
        "Find the shape, number of dimensions, data type, size and type of each array."
      ]
    },
    {
      "cell_type": "code",
      "execution_count": null,
      "metadata": {
        "colab": {
          "base_uri": "https://localhost:8080/"
        },
        "id": "tr8zzACKiMem",
        "outputId": "379062c0-8740-400c-bd95-0cc0d0a25ed6"
      },
      "outputs": [
        {
          "output_type": "stream",
          "name": "stdout",
          "text": [
            "Type: <class 'numpy.ndarray'>\n",
            "Shape: (4,)\n",
            "Size: 4\n",
            "Dimensions: 1\n",
            "Data type: int64\n",
            "Item_Size: 8\n",
            "total_memory: = 32 bytes\n"
          ]
        }
      ],
      "source": [
        "# Attributes of 1-dimensional array (shape,\n",
        "# number of dimensions, data type, size and type)\n",
        "print(\"Type:\",type(arr1)) # Type: <class 'numpy.ndarray'>\n",
        "print(\"Shape:\", arr1.shape) # Shape: (6,)\n",
        "print(\"Size:\",arr1.size) # Size: 6\n",
        "print(\"Dimensions:\", arr1.ndim) # Dimensions: 1\n",
        "print(\"Data type:\", arr1.dtype) # Data type: int64\n",
        "print(\"Item_Size:\",arr1.itemsize) # size in bytes of each element of the array.\n",
        "print(\"total_memory: =\", arr1.size * arr1.itemsize,\"bytes\")"
      ]
    },
    {
      "cell_type": "code",
      "execution_count": null,
      "metadata": {
        "colab": {
          "base_uri": "https://localhost:8080/"
        },
        "id": "N9Ly8GfoiMen",
        "outputId": "48889258-6f4e-4b51-c346-3be1d85660aa"
      },
      "outputs": [
        {
          "output_type": "stream",
          "name": "stdout",
          "text": [
            "Type: <class 'numpy.ndarray'>\n",
            "Shape: (2, 4)\n",
            "Size: 8\n",
            "Dimensions: 2\n",
            "Data type: int64\n",
            "Item_Size: 8\n",
            "total_memory: = 64 bytes\n"
          ]
        }
      ],
      "source": [
        "# Attributes of 2-dimensional array\n",
        "print(\"Type:\",type(arr2))\n",
        "print(\"Shape:\", arr2.shape)\n",
        "print(\"Size:\",arr2.size)\n",
        "print(\"Dimensions:\", arr2.ndim)\n",
        "print(\"Data type:\", arr2.dtype)\n",
        "print(\"Item_Size:\",arr2.itemsize)\n",
        "print(\"total_memory: =\", arr2.size * arr2.itemsize,\"bytes\")"
      ]
    },
    {
      "cell_type": "code",
      "execution_count": null,
      "metadata": {
        "colab": {
          "base_uri": "https://localhost:8080/"
        },
        "id": "BumV5d0OiMen",
        "outputId": "23a82eb0-5e88-46ff-915e-558d0185d01a"
      },
      "outputs": [
        {
          "output_type": "stream",
          "name": "stdout",
          "text": [
            "Type: <class 'numpy.ndarray'>\n",
            "Shape: (3, 4)\n",
            "Size: 12\n",
            "Dimensions: 2\n",
            "Data type: int64\n",
            "Item_Size: 8\n",
            "total_memory: = 96 bytes\n"
          ]
        }
      ],
      "source": [
        "# Attributes of 3-dimensional array\n",
        "print(\"Type:\",type(arr3))\n",
        "print(\"Shape:\", arr3.shape)\n",
        "print(\"Size:\",arr3.size)\n",
        "print(\"Dimensions:\", arr3.ndim)\n",
        "print(\"Data type:\", arr3.dtype)\n",
        "print(\"Item_Size:\",arr3.itemsize)\n",
        "print(\"total_memory: =\", arr3.size * arr3.itemsize,\"bytes\")"
      ]
    },
    {
      "cell_type": "code",
      "execution_count": null,
      "metadata": {
        "colab": {
          "base_uri": "https://localhost:8080/"
        },
        "id": "fptFcg9YiMeo",
        "outputId": "1f8fe51a-4f56-4793-8f26-292284666a12"
      },
      "outputs": [
        {
          "output_type": "stream",
          "name": "stdout",
          "text": [
            "[[1. 1.]\n",
            " [1. 1.]\n",
            " [1. 1.]\n",
            " [1. 1.]\n",
            " [1. 1.]\n",
            " [1. 1.]\n",
            " [1. 1.]\n",
            " [1. 1.]\n",
            " [1. 1.]\n",
            " [1. 1.]]\n"
          ]
        }
      ],
      "source": [
        "# Create an array of shape (10, 2) with only ones\n",
        "import numpy as np\n",
        "array = np.ones((10, 2))\n",
        "print(array)"
      ]
    },
    {
      "cell_type": "code",
      "execution_count": null,
      "metadata": {
        "colab": {
          "base_uri": "https://localhost:8080/"
        },
        "id": "P-E-tc-riMep",
        "outputId": "072d0b19-7bd5-44ae-a7b0-737d72897c56"
      },
      "outputs": [
        {
          "output_type": "stream",
          "name": "stdout",
          "text": [
            "[[[0. 0. 0.]\n",
            "  [0. 0. 0.]]\n",
            "\n",
            " [[0. 0. 0.]\n",
            "  [0. 0. 0.]]\n",
            "\n",
            " [[0. 0. 0.]\n",
            "  [0. 0. 0.]]\n",
            "\n",
            " [[0. 0. 0.]\n",
            "  [0. 0. 0.]]\n",
            "\n",
            " [[0. 0. 0.]\n",
            "  [0. 0. 0.]]\n",
            "\n",
            " [[0. 0. 0.]\n",
            "  [0. 0. 0.]]\n",
            "\n",
            " [[0. 0. 0.]\n",
            "  [0. 0. 0.]]]\n"
          ]
        }
      ],
      "source": [
        "# Create an array of shape (7, 2, 3) of only zeros\n",
        "import numpy as np\n",
        "array=np.zeros((7,2,3))\n",
        "print(array)"
      ]
    },
    {
      "cell_type": "code",
      "execution_count": null,
      "metadata": {
        "colab": {
          "base_uri": "https://localhost:8080/"
        },
        "id": "BytbR4aniMep",
        "outputId": "30052e07-fc7c-452a-fdeb-ae80fca239ea"
      },
      "outputs": [
        {
          "output_type": "stream",
          "name": "stdout",
          "text": [
            "[ 0  3  6  9 12 15 18 21 24 27 30 33 36 39 42 45 48 51 54 57 60 63 66 69\n",
            " 72 75 78 81 84 87 90 93 96 99]\n"
          ]
        }
      ],
      "source": [
        "# Create an array within a range of 0 and 100 with step 3\n",
        "import numpy as np\n",
        "\n",
        "array = np.arange(0, 100, 3)\n",
        "print(array)"
      ]
    },
    {
      "cell_type": "code",
      "execution_count": null,
      "metadata": {
        "colab": {
          "base_uri": "https://localhost:8080/"
        },
        "id": "yGpM2D2aiMep",
        "outputId": "3d6430d7-6432-4be6-80cf-226414449f94"
      },
      "outputs": [
        {
          "output_type": "stream",
          "name": "stdout",
          "text": [
            "[[ 1  3]\n",
            " [ 3  1]\n",
            " [ 1  9]\n",
            " [10 10]\n",
            " [ 0  4]\n",
            " [10  2]\n",
            " [ 9  6]]\n"
          ]
        }
      ],
      "source": [
        "# Create a random array with numbers between 0 and 10 of size (7, 2)\n",
        "import numpy as np\n",
        "array = np.random.randint(0, 11, (7, 2))\n",
        "print(array)"
      ]
    },
    {
      "cell_type": "code",
      "execution_count": null,
      "metadata": {
        "colab": {
          "base_uri": "https://localhost:8080/"
        },
        "id": "N5VSCo0biMeq",
        "outputId": "5d59fab2-4f9e-4afd-9a2b-b755ca2d98e4"
      },
      "outputs": [
        {
          "output_type": "stream",
          "name": "stdout",
          "text": [
            "[[0.99001444 0.75723771 0.96530059 0.78903921 0.67384897]\n",
            " [0.93956167 0.76777244 0.09883862 0.08339441 0.50594262]\n",
            " [0.49755674 0.11185924 0.74374165 0.73514928 0.56441026]]\n"
          ]
        }
      ],
      "source": [
        "# Create a random array of floats between 0 & 1 of shape (3, 5)\n",
        "import numpy as np\n",
        "\n",
        "array = np.random.rand(3, 5)  # Generates random floats between 0 and 1\n",
        "print(array)"
      ]
    },
    {
      "cell_type": "code",
      "execution_count": null,
      "metadata": {
        "colab": {
          "base_uri": "https://localhost:8080/"
        },
        "id": "ZyqZGN5ViMeq",
        "outputId": "7fb93e1d-2bbb-483e-94e3-956db4518731"
      },
      "outputs": [
        {
          "output_type": "stream",
          "name": "stdout",
          "text": [
            "[[ 6  3 10  7  4  6]\n",
            " [ 9  2  6 10 10  7]\n",
            " [ 4  3  7  7  2  5]\n",
            " [ 4  1  7  5  1  4]]\n"
          ]
        }
      ],
      "source": [
        "# Set the random seed to 42\n",
        "import numpy as np\n",
        "np.random.seed(42)\n",
        "# Create a random array of numbers between 0 & 10 of size (4, 6)\n",
        "array = np.random.randint(0, 11, (4, 6))\n",
        "print(array)"
      ]
    },
    {
      "cell_type": "markdown",
      "metadata": {
        "id": "qULhJaB7iMeq"
      },
      "source": [
        "Run the cell above again, what happens?\n",
        "\n",
        "Are the numbers in the array different or the same? Why do think this is?"
      ]
    },
    {
      "cell_type": "code",
      "execution_count": null,
      "metadata": {
        "colab": {
          "base_uri": "https://localhost:8080/"
        },
        "id": "0zS_8ByWiMer",
        "outputId": "562bd24d-38f1-443f-8594-00a6e93dfade"
      },
      "outputs": [
        {
          "output_type": "stream",
          "name": "stdout",
          "text": [
            "Random Array:\n",
            " [[ 1 10  6  9  1 10  3]\n",
            " [ 7  4  9  3  5  3  7]\n",
            " [ 5  9  7  2  4  9  2]]\n",
            "Unique Numbers: [ 1  2  3  4  5  6  7  9 10]\n"
          ]
        }
      ],
      "source": [
        "# Create an array of random numbers between 1 & 10 of size (3, 7)\n",
        "# and save it to a variable\n",
        "import numpy as np\n",
        "random_array = np.random.randint(1, 11, size=(3, 7))\n",
        "unique_nums = np.unique(random_array)\n",
        "# Find the unique numbers in the array you just created\n",
        "print(\"Random Array:\\n\", random_array)\n",
        "print(\"Unique Numbers:\", unique_nums)"
      ]
    },
    {
      "cell_type": "code",
      "execution_count": null,
      "metadata": {
        "colab": {
          "base_uri": "https://localhost:8080/"
        },
        "id": "DpRNWO0KiMer",
        "outputId": "827526d7-5176-478d-897e-f25e5051b858"
      },
      "outputs": [
        {
          "output_type": "stream",
          "name": "stdout",
          "text": [
            "[ 1 10  6  9  1 10  3]\n"
          ]
        }
      ],
      "source": [
        "# Find the 0'th index of the latest array you created\n",
        "print(random_array[0])"
      ]
    },
    {
      "cell_type": "code",
      "execution_count": null,
      "metadata": {
        "colab": {
          "base_uri": "https://localhost:8080/"
        },
        "id": "ninM5MAMiMer",
        "outputId": "e7b3ff8e-f8e8-418a-aa94-4938aa598e6f"
      },
      "outputs": [
        {
          "output_type": "stream",
          "name": "stdout",
          "text": [
            "First 2 Rows of random_array:\n",
            " [[ 1 10  6  9  1 10  3]\n",
            " [ 7  4  9  3  5  3  7]]\n"
          ]
        }
      ],
      "source": [
        "# Get the first 2 rows of latest array you created\n",
        "two_rows = random_array[:2]\n",
        "# Print the result\n",
        "print(\"First 2 Rows of random_array:\\n\", two_rows)"
      ]
    },
    {
      "cell_type": "code",
      "execution_count": null,
      "metadata": {
        "colab": {
          "base_uri": "https://localhost:8080/"
        },
        "id": "mCwcR12ViMer",
        "outputId": "135fbb5b-9577-4b02-85cd-848f1896d938"
      },
      "outputs": [
        {
          "output_type": "stream",
          "name": "stdout",
          "text": [
            "the first 2 values of first two rows [[ 1 10]\n",
            " [ 7  4]]\n"
          ]
        }
      ],
      "source": [
        "# Get the first 2 values of the first 2 rows of the latest array\n",
        "values = random_array[:2, :2]\n",
        "print(\"the first 2 values of first two rows: \", values)"
      ]
    },
    {
      "cell_type": "code",
      "execution_count": null,
      "metadata": {
        "colab": {
          "base_uri": "https://localhost:8080/"
        },
        "id": "E7SKxdYXiMer",
        "outputId": "32c2a1f1-9a8c-4c42-dfb5-6c9cabfd3c33"
      },
      "outputs": [
        {
          "output_type": "stream",
          "name": "stdout",
          "text": [
            "Random Array:\n",
            " [[9 8 9 4 1]\n",
            " [3 6 7 2 0]\n",
            " [3 1 7 3 1]]\n",
            "Ones Array:\n",
            " [[1. 1. 1. 1. 1.]\n",
            " [1. 1. 1. 1. 1.]\n",
            " [1. 1. 1. 1. 1.]]\n"
          ]
        }
      ],
      "source": [
        "# Create a random array of numbers between 0 & 10 and an array of ones\n",
        "# both of size (3, 5), save them both to variables\n",
        "import numpy as np\n",
        "random_array2 = np.random.randint(0, 11, size=(3, 5))\n",
        "ones_array = np.ones((3, 5))\n",
        "\n",
        "# Print results\n",
        "print(\"Random Array:\\n\", random_array2)\n",
        "print(\"Ones Array:\\n\", ones_array)"
      ]
    },
    {
      "cell_type": "code",
      "execution_count": null,
      "metadata": {
        "colab": {
          "base_uri": "https://localhost:8080/"
        },
        "id": "-IIsRly-iMer",
        "outputId": "5f44294c-032e-4283-e695-37d070bc811e"
      },
      "outputs": [
        {
          "output_type": "stream",
          "name": "stdout",
          "text": [
            "[[10.  9. 10.  5.  2.]\n",
            " [ 4.  7.  8.  3.  1.]\n",
            " [ 4.  2.  8.  4.  2.]]\n"
          ]
        }
      ],
      "source": [
        "# Add the two arrays together\n",
        "merged_array=random_array2+ones_array\n",
        "print(merged_array)"
      ]
    },
    {
      "cell_type": "code",
      "execution_count": null,
      "metadata": {
        "colab": {
          "base_uri": "https://localhost:8080/"
        },
        "id": "HbX-ljpniMes",
        "outputId": "cf369e6d-3122-4ba2-bad9-7c8dccbb49c0"
      },
      "outputs": [
        {
          "output_type": "stream",
          "name": "stdout",
          "text": [
            "[[1. 1. 1.]\n",
            " [1. 1. 1.]\n",
            " [1. 1. 1.]\n",
            " [1. 1. 1.]\n",
            " [1. 1. 1.]]\n"
          ]
        }
      ],
      "source": [
        "# Create another array of ones of shape (5, 3)\n",
        "ran_array = np.ones((5, 3))\n",
        "print(ran_array)"
      ]
    },
    {
      "cell_type": "code",
      "source": [
        "# Try add the array of ones and the other most recent array together\n",
        "new_sum_array = ran_array + ones_array\n",
        "\n",
        "# Print the result\n",
        "print(\"New Sum of Arrays:\\n\", new_sum_array)"
      ],
      "metadata": {
        "colab": {
          "base_uri": "https://localhost:8080/",
          "height": 219
        },
        "id": "S1Nx9BnmuqPe",
        "outputId": "e22a2f01-51bf-4dfc-b2b2-69511c82ec65"
      },
      "execution_count": null,
      "outputs": [
        {
          "output_type": "error",
          "ename": "ValueError",
          "evalue": "operands could not be broadcast together with shapes (5,3) (3,5) ",
          "traceback": [
            "\u001b[0;31m---------------------------------------------------------------------------\u001b[0m",
            "\u001b[0;31mValueError\u001b[0m                                Traceback (most recent call last)",
            "\u001b[0;32m<ipython-input-43-491c989e9bc9>\u001b[0m in \u001b[0;36m<cell line: 0>\u001b[0;34m()\u001b[0m\n\u001b[1;32m      1\u001b[0m \u001b[0;31m# Try add the array of ones and the other most recent array together\u001b[0m\u001b[0;34m\u001b[0m\u001b[0;34m\u001b[0m\u001b[0m\n\u001b[1;32m      2\u001b[0m \u001b[0;31m# Add the ones array to the most recent array (sum_array)\u001b[0m\u001b[0;34m\u001b[0m\u001b[0;34m\u001b[0m\u001b[0m\n\u001b[0;32m----> 3\u001b[0;31m \u001b[0mnew_sum_array\u001b[0m \u001b[0;34m=\u001b[0m \u001b[0mran_array\u001b[0m \u001b[0;34m+\u001b[0m \u001b[0mones_array\u001b[0m\u001b[0;34m\u001b[0m\u001b[0;34m\u001b[0m\u001b[0m\n\u001b[0m\u001b[1;32m      4\u001b[0m \u001b[0;34m\u001b[0m\u001b[0m\n\u001b[1;32m      5\u001b[0m \u001b[0;31m# Print the result\u001b[0m\u001b[0;34m\u001b[0m\u001b[0;34m\u001b[0m\u001b[0m\n",
            "\u001b[0;31mValueError\u001b[0m: operands could not be broadcast together with shapes (5,3) (3,5) "
          ]
        }
      ]
    },
    {
      "cell_type": "markdown",
      "metadata": {
        "id": "yUYtejzkiMes"
      },
      "source": [
        "When you try the last cell, it produces an error. Why do think this is?\n",
        "answer:  because NumPy's broadcasting rules require exactly matching shapes\n",
        "How would you fix it?\n",
        "transpose the array using .T"
      ]
    },
    {
      "cell_type": "code",
      "execution_count": null,
      "metadata": {
        "colab": {
          "base_uri": "https://localhost:8080/"
        },
        "id": "eYcgKFOgiMes",
        "outputId": "e0f3c53b-fe16-471b-b876-48274866e5f9"
      },
      "outputs": [
        {
          "output_type": "stream",
          "name": "stdout",
          "text": [
            "Ones Array of shape (3x5):\n",
            " [[1. 1. 1. 1. 1.]\n",
            " [1. 1. 1. 1. 1.]\n",
            " [1. 1. 1. 1. 1.]]\n"
          ]
        }
      ],
      "source": [
        "# Create another array of ones of shape (3, 5)\n",
        "onesarray_3x5 = np.ones((3, 5))\n",
        "print(\"Ones Array of shape (3x5):\\n\", onesarray_3x5)"
      ]
    },
    {
      "cell_type": "code",
      "execution_count": null,
      "metadata": {
        "colab": {
          "base_uri": "https://localhost:8080/"
        },
        "id": "afnZ1StuiMes",
        "outputId": "4519e974-d588-4050-d02e-a59ceb23fd93"
      },
      "outputs": [
        {
          "output_type": "stream",
          "name": "stdout",
          "text": [
            "[[0. 0. 0. 0. 0.]\n",
            " [0. 0. 0. 0. 0.]\n",
            " [0. 0. 0. 0. 0.]]\n"
          ]
        }
      ],
      "source": [
        "# Subtract the new array of ones from the other most recent array\n",
        "subtracted= ran_array.T-onesarray_3x5\n",
        "print(subtracted)"
      ]
    },
    {
      "cell_type": "code",
      "execution_count": null,
      "metadata": {
        "colab": {
          "base_uri": "https://localhost:8080/"
        },
        "id": "FbWjZDXniMes",
        "outputId": "7f68e606-801d-43d8-e4f9-02ed566cb6f5"
      },
      "outputs": [
        {
          "output_type": "stream",
          "name": "stdout",
          "text": [
            "Multiplied Array:  [[1. 1. 1. 1. 1.]\n",
            " [1. 1. 1. 1. 1.]\n",
            " [1. 1. 1. 1. 1.]]\n"
          ]
        }
      ],
      "source": [
        "# Multiply the ones array with the latest array\n",
        "multiplied_array = ran_array.T * onesarray_3x5\n",
        "print(\"Multiplied Array: \", multiplied_array)"
      ]
    },
    {
      "cell_type": "code",
      "execution_count": null,
      "metadata": {
        "colab": {
          "base_uri": "https://localhost:8080/"
        },
        "id": "TPAk7Q0hiMes",
        "outputId": "486a77db-e27d-4d83-eaff-9c9e43ce0681"
      },
      "outputs": [
        {
          "output_type": "stream",
          "name": "stdout",
          "text": [
            "Array to the power of 2:\n",
            " [[1. 1. 1. 1. 1.]\n",
            " [1. 1. 1. 1. 1.]\n",
            " [1. 1. 1. 1. 1.]]\n"
          ]
        }
      ],
      "source": [
        "# Take the latest array to the power of 2 using '**'\n",
        "power_array = onesarray_3x5 ** 2\n",
        "print(\"Array to the power of 2: \", power_array)"
      ]
    },
    {
      "cell_type": "code",
      "execution_count": null,
      "metadata": {
        "colab": {
          "base_uri": "https://localhost:8080/"
        },
        "id": "JE2745bIiMes",
        "outputId": "c7327141-d374-42ab-854f-5d2afb4994eb"
      },
      "outputs": [
        {
          "output_type": "stream",
          "name": "stdout",
          "text": [
            "sqaured array:  [[1. 1. 1. 1. 1.]\n",
            " [1. 1. 1. 1. 1.]\n",
            " [1. 1. 1. 1. 1.]]\n"
          ]
        }
      ],
      "source": [
        "# Do the same thing with np.square()\n",
        "square_array = np.square(onesarray_3x5)\n",
        "print(\"sqaured array: \", square_array)"
      ]
    },
    {
      "cell_type": "code",
      "execution_count": null,
      "metadata": {
        "colab": {
          "base_uri": "https://localhost:8080/"
        },
        "id": "up_xZuykiMet",
        "outputId": "c4e7f33e-67e1-4ee2-e520-2aafb9f511c8"
      },
      "outputs": [
        {
          "output_type": "stream",
          "name": "stdout",
          "text": [
            "1.0\n"
          ]
        }
      ],
      "source": [
        "# Find the mean of the latest array using np.mean()\n",
        "mean_value = np.mean(onesarray_3x5)\n",
        "print(mean_value)"
      ]
    },
    {
      "cell_type": "code",
      "execution_count": null,
      "metadata": {
        "colab": {
          "base_uri": "https://localhost:8080/"
        },
        "id": "BeH0GfvDiMet",
        "outputId": "b931c24a-d2df-4e73-a9f1-403ba31fa0b1"
      },
      "outputs": [
        {
          "output_type": "stream",
          "name": "stdout",
          "text": [
            "Maximum value: 1.0\n"
          ]
        }
      ],
      "source": [
        "# Find the maximum of the latest array using np.max()\n",
        "max_value = np.max(onesarray_3x5)\n",
        "print(\"Maximum value:\", max_value)"
      ]
    },
    {
      "cell_type": "code",
      "execution_count": null,
      "metadata": {
        "colab": {
          "base_uri": "https://localhost:8080/"
        },
        "id": "FGKmzfbYiMet",
        "outputId": "c41fa4e1-1fce-4510-d63a-e3a4c271bee7"
      },
      "outputs": [
        {
          "output_type": "stream",
          "name": "stdout",
          "text": [
            "1.0\n"
          ]
        }
      ],
      "source": [
        "# Find the minimum of the latest array using np.min()\n",
        "min_value=np.min(onesarray_3x5)\n",
        "print(min_value)"
      ]
    },
    {
      "cell_type": "code",
      "execution_count": null,
      "metadata": {
        "colab": {
          "base_uri": "https://localhost:8080/"
        },
        "id": "6fhkAyhriMet",
        "outputId": "6f6f7aab-3922-428e-87a2-aa3ae9358d4d"
      },
      "outputs": [
        {
          "output_type": "stream",
          "name": "stdout",
          "text": [
            "Standard Deviation: 0.0\n"
          ]
        }
      ],
      "source": [
        "# Find the standard deviation of the latest array\n",
        "std_dev = np.std(onesarray_3x5)\n",
        "print(\"Standard Deviation:\", std_dev)"
      ]
    },
    {
      "cell_type": "code",
      "execution_count": null,
      "metadata": {
        "colab": {
          "base_uri": "https://localhost:8080/"
        },
        "id": "HY76mrc2iMet",
        "outputId": "acef38cb-d78b-4fb7-99ca-6258aa61cc19"
      },
      "outputs": [
        {
          "output_type": "stream",
          "name": "stdout",
          "text": [
            "Variance: 0.0\n"
          ]
        }
      ],
      "source": [
        "# Find the variance of the latest array\n",
        "variance = np.var(onesarray_3x5)\n",
        "print(\"Variance:\", variance)"
      ]
    },
    {
      "cell_type": "code",
      "execution_count": null,
      "metadata": {
        "colab": {
          "base_uri": "https://localhost:8080/"
        },
        "id": "2qqyyvMTiMet",
        "outputId": "9ae729ee-f937-41e4-ac09-529b0dd4fb54"
      },
      "outputs": [
        {
          "output_type": "stream",
          "name": "stdout",
          "text": [
            "Reshaped Array:\n",
            " [[[1.]\n",
            "  [1.]\n",
            "  [1.]\n",
            "  [1.]\n",
            "  [1.]]\n",
            "\n",
            " [[1.]\n",
            "  [1.]\n",
            "  [1.]\n",
            "  [1.]\n",
            "  [1.]]\n",
            "\n",
            " [[1.]\n",
            "  [1.]\n",
            "  [1.]\n",
            "  [1.]\n",
            "  [1.]]]\n"
          ]
        }
      ],
      "source": [
        "# Reshape the latest array to (3, 5, 1)\n",
        "reshaped_array = onesarray_3x5.reshape(3, 5, 1)\n",
        "print(\"Reshaped Array:\\n\", reshaped_array)"
      ]
    },
    {
      "cell_type": "code",
      "execution_count": null,
      "metadata": {
        "colab": {
          "base_uri": "https://localhost:8080/"
        },
        "id": "d3e19Y-wiMet",
        "outputId": "13db2d97-fd32-4a51-f644-38bcc7943e28"
      },
      "outputs": [
        {
          "output_type": "stream",
          "name": "stdout",
          "text": [
            "Transposed Array:\n",
            " [[1. 1. 1.]\n",
            " [1. 1. 1.]\n",
            " [1. 1. 1.]\n",
            " [1. 1. 1.]\n",
            " [1. 1. 1.]]\n"
          ]
        }
      ],
      "source": [
        "# Transpose the latest array\n",
        "transposed_array = onesarray_3x5.T\n",
        "print(\"Transposed Array:\\n\", transposed_array)\n"
      ]
    },
    {
      "cell_type": "markdown",
      "metadata": {
        "id": "7SYxOjiUiMeu"
      },
      "source": [
        "What does the transpose do?\n",
        "my answer: transpose operation swaps the rows and columns of that matrix"
      ]
    },
    {
      "cell_type": "code",
      "execution_count": null,
      "metadata": {
        "colab": {
          "base_uri": "https://localhost:8080/"
        },
        "id": "DzOwch5AiMeu",
        "outputId": "7fd882b1-329e-4be9-9279-9bbf5adc149a"
      },
      "outputs": [
        {
          "output_type": "stream",
          "name": "stdout",
          "text": [
            "Array 1:   [[5 5 9]\n",
            " [3 5 1]\n",
            " [9 1 9]]\n",
            "Array 2:   [[3 7]\n",
            " [6 8]\n",
            " [7 4]]\n"
          ]
        }
      ],
      "source": [
        "# Create two arrays of random integers between 0 to 10\n",
        "# one of size (3, 3) the other of size (3, 2)\n",
        "array1 = np.random.randint(0, 10, (3, 3))\n",
        "array2 = np.random.randint(0, 10, (3, 2))\n",
        "print(\"Array 1:  \", array1)\n",
        "print(\"Array 2:  \", array2)"
      ]
    },
    {
      "cell_type": "code",
      "execution_count": null,
      "metadata": {
        "colab": {
          "base_uri": "https://localhost:8080/"
        },
        "id": "R5mMkyRWiMeu",
        "outputId": "82156bde-5a3c-4c88-f75c-ec680446e09f"
      },
      "outputs": [
        {
          "output_type": "stream",
          "name": "stdout",
          "text": [
            "Dot Product of (3,3) and (3,2) arrays:\n",
            " [[108 111]\n",
            " [ 46  65]\n",
            " [ 96 107]]\n"
          ]
        }
      ],
      "source": [
        "# Perform a dot product on the two newest arrays you created\n",
        "dot_product_1 = np.dot(array1, array2)\n",
        "print(\"Dot Product of (3,3) and (3,2) arrays: \", dot_product_1)"
      ]
    },
    {
      "cell_type": "code",
      "execution_count": null,
      "metadata": {
        "id": "0uhEtVpwiMeu"
      },
      "outputs": [],
      "source": [
        "# Create two arrays of random integers between 0 to 10\n",
        "# both of size (4, 3)\n",
        "array3 = np.random.randint(0, 10, (4, 3))\n",
        "array4 = np.random.randint(0, 10, (4, 3))\n",
        "print(\"Array 3:  \", array3)\n",
        "print(\"Array 4:  \", array4)"
      ]
    },
    {
      "cell_type": "code",
      "execution_count": null,
      "metadata": {
        "colab": {
          "base_uri": "https://localhost:8080/",
          "height": 182
        },
        "id": "VKb2ofgfiMe4",
        "outputId": "e11ab608-081b-40b3-d323-af9028a3887f"
      },
      "outputs": [
        {
          "output_type": "error",
          "ename": "NameError",
          "evalue": "name 'array3' is not defined",
          "traceback": [
            "\u001b[0;31m---------------------------------------------------------------------------\u001b[0m",
            "\u001b[0;31mNameError\u001b[0m                                 Traceback (most recent call last)",
            "\u001b[0;32m<ipython-input-64-70f2f7a3b70f>\u001b[0m in \u001b[0;36m<cell line: 0>\u001b[0;34m()\u001b[0m\n\u001b[1;32m      1\u001b[0m \u001b[0;31m# Perform a dot product on the two newest arrays you created\u001b[0m\u001b[0;34m\u001b[0m\u001b[0;34m\u001b[0m\u001b[0m\n\u001b[0;32m----> 2\u001b[0;31m \u001b[0mdot_product_2\u001b[0m \u001b[0;34m=\u001b[0m \u001b[0mnp\u001b[0m\u001b[0;34m.\u001b[0m\u001b[0mdot\u001b[0m\u001b[0;34m(\u001b[0m\u001b[0marray3\u001b[0m\u001b[0;34m,\u001b[0m \u001b[0marray4\u001b[0m\u001b[0;34m)\u001b[0m\u001b[0;34m\u001b[0m\u001b[0;34m\u001b[0m\u001b[0m\n\u001b[0m\u001b[1;32m      3\u001b[0m \u001b[0mprint\u001b[0m\u001b[0;34m(\u001b[0m\u001b[0;34m\"dot product: \"\u001b[0m\u001b[0;34m,\u001b[0m\u001b[0mdot_product_2\u001b[0m\u001b[0;34m)\u001b[0m\u001b[0;34m\u001b[0m\u001b[0;34m\u001b[0m\u001b[0m\n",
            "\u001b[0;31mNameError\u001b[0m: name 'array3' is not defined"
          ]
        }
      ],
      "source": [
        "# Perform a dot product on the two newest arrays you created\n",
        "dot_product_2 = np.dot(array3, array4)\n",
        "print(\"dot product: \",dot_product_2)"
      ]
    },
    {
      "cell_type": "markdown",
      "metadata": {
        "id": "wTxWRggWiMe4"
      },
      "source": [
        "It doesn't work. How would you fix it?"
      ]
    },
    {
      "cell_type": "code",
      "execution_count": null,
      "metadata": {
        "colab": {
          "base_uri": "https://localhost:8080/"
        },
        "id": "Q2BQOThAiMe4",
        "outputId": "ee5cf03e-560c-49b4-9011-a59b6fcc68f6"
      },
      "outputs": [
        {
          "output_type": "stream",
          "name": "stdout",
          "text": [
            "Dot Product :  [[ 49  42  30  96]\n",
            " [135  72  50 201]\n",
            " [ 68  68  24 102]\n",
            " [105  49  16 114]]\n"
          ]
        }
      ],
      "source": [
        "# Take the latest two arrays, perform a transpose on one of them and then perform\n",
        "# a dot product on them both\n",
        "array3 = np.random.randint(0, 10, (4, 3))\n",
        "array4 = np.random.randint(0, 10, (4, 3))\n",
        "dot_product = np.dot(array3, array4.T)\n",
        "print(\"Dot Product : \", dot_product)"
      ]
    },
    {
      "cell_type": "markdown",
      "metadata": {
        "id": "4Ew2F_k9iMe5"
      },
      "source": [
        "Notice how performing a transpose allows the dot product to happen.\n",
        "\n",
        "Why is this?\n",
        "\n",
        "Checking out the documentation on [`np.dot()`](https://docs.scipy.org/doc/numpy/reference/generated/numpy.dot.html) may help, as well as reading [Math is Fun's guide on the dot product](https://www.mathsisfun.com/algebra/vectors-dot-product.html).\n",
        "\n",
        "Let's now compare arrays."
      ]
    },
    {
      "cell_type": "code",
      "execution_count": null,
      "metadata": {
        "colab": {
          "base_uri": "https://localhost:8080/"
        },
        "id": "ySABiSuniMe5",
        "outputId": "ac274553-73a3-4e36-f677-e46b134b7d58"
      },
      "outputs": [
        {
          "output_type": "stream",
          "name": "stdout",
          "text": [
            "Array 1:  [[8 6 8]\n",
            " [7 1 0]\n",
            " [6 6 7]]\n",
            "Array 2:  [[4 2 7]\n",
            " [5 2 0]\n",
            " [2 4 2]]\n"
          ]
        }
      ],
      "source": [
        "# Create two arrays of random integers between 0 & 10 of the same shape\n",
        "# and save them to variables\n",
        "array1 = np.random.randint(0, 10, (3, 3))\n",
        "array2 = np.random.randint(0, 10, (3, 3))\n",
        "\n",
        "print(\"Array 1: \", array1)\n",
        "print(\"Array 2: \", array2)"
      ]
    },
    {
      "cell_type": "code",
      "execution_count": null,
      "metadata": {
        "colab": {
          "base_uri": "https://localhost:8080/"
        },
        "id": "qZtxX5bGiMe5",
        "outputId": "3a023dbb-df32-48a1-d948-f971ce0d4484"
      },
      "outputs": [
        {
          "output_type": "stream",
          "name": "stdout",
          "text": [
            "Array1 > Array2:  [[ True  True  True]\n",
            " [ True False False]\n",
            " [ True  True  True]]\n"
          ]
        }
      ],
      "source": [
        "# Compare the two arrays with '>'\n",
        "compare = array1 > array2\n",
        "print(\"Array1 > Array2: \", compare)"
      ]
    },
    {
      "cell_type": "markdown",
      "metadata": {
        "id": "vBBKiL-EiMe5"
      },
      "source": [
        "What happens when you compare the arrays with `>`?\n",
        "\n",
        "answer: It returns a boolean values.\n"
      ]
    },
    {
      "cell_type": "code",
      "execution_count": null,
      "metadata": {
        "colab": {
          "base_uri": "https://localhost:8080/"
        },
        "id": "mdvR73MCiMe5",
        "outputId": "40b38295-8b20-4ce7-9e35-d12aabc6171a"
      },
      "outputs": [
        {
          "output_type": "stream",
          "name": "stdout",
          "text": [
            "Array1 >= Array2:   [[ True  True  True]\n",
            " [ True False  True]\n",
            " [ True  True  True]]\n"
          ]
        }
      ],
      "source": [
        "# Compare the two arrays with '>='\n",
        "compare2 = array1 >= array2\n",
        "print(\"Array1 >= Array2:  \", compare2)"
      ]
    },
    {
      "cell_type": "code",
      "execution_count": null,
      "metadata": {
        "colab": {
          "base_uri": "https://localhost:8080/"
        },
        "id": "MVjCVGXIiMe5",
        "outputId": "c6a290e0-b6da-498f-991c-aec55a4c3dc1"
      },
      "outputs": [
        {
          "output_type": "stream",
          "name": "stdout",
          "text": [
            "Elements in Array1 greater than 7:  [[ True False  True]\n",
            " [False False False]\n",
            " [False False False]]\n"
          ]
        }
      ],
      "source": [
        "# Find which elements of the first array are greater than 7\n",
        "greater_than_7 = array1 > 7\n",
        "print(\"Elements in Array1 greater than 7: \", greater_than_7)"
      ]
    },
    {
      "cell_type": "code",
      "execution_count": null,
      "metadata": {
        "colab": {
          "base_uri": "https://localhost:8080/"
        },
        "id": "wlgM5CxriMe6",
        "outputId": "8e52c3c8-d705-49a4-8c07-aec398648b19"
      },
      "outputs": [
        {
          "output_type": "stream",
          "name": "stdout",
          "text": [
            "Equal elements in Array1 and Array2:   [[False False False]\n",
            " [False False  True]\n",
            " [False False False]]\n"
          ]
        }
      ],
      "source": [
        "# Which parts of each array are equal? (try using '==')\n",
        "is_equal = array1 == array2\n",
        "print(\"Equal elements in Array1 and Array2:  \", is_equal)"
      ]
    },
    {
      "cell_type": "code",
      "execution_count": null,
      "metadata": {
        "colab": {
          "base_uri": "https://localhost:8080/"
        },
        "id": "mJMUKBj9iMe6",
        "outputId": "ac307717-f3eb-4f7b-aaac-e81d7daa9cd3"
      },
      "outputs": [
        {
          "output_type": "stream",
          "name": "stdout",
          "text": [
            "Sorted Array1 in ascending order:\n",
            " [[6 8 8]\n",
            " [0 1 7]\n",
            " [6 6 7]]\n"
          ]
        }
      ],
      "source": [
        "# Sort one of the arrays you just created in ascending order\n",
        "sorted_array1 = np.sort(array1)\n",
        "print(\"Sorted Array1 in ascending order:\", sorted_array1)"
      ]
    },
    {
      "cell_type": "code",
      "execution_count": null,
      "metadata": {
        "colab": {
          "base_uri": "https://localhost:8080/"
        },
        "id": "a9ad_rKDiMe6",
        "outputId": "8493a2a8-e286-406f-d2c9-575fa7f46427"
      },
      "outputs": [
        {
          "output_type": "stream",
          "name": "stdout",
          "text": [
            "Sorted indexes of Array1:\n",
            " [[1 0 2]\n",
            " [2 1 0]\n",
            " [0 1 2]]\n"
          ]
        }
      ],
      "source": [
        "# Sort the indexes of one of the arrays you just created\n",
        "sorted_indexes = np.argsort(array1)\n",
        "print(\"Sorted indexes of Array1:\", sorted_indexes)"
      ]
    },
    {
      "cell_type": "code",
      "execution_count": null,
      "metadata": {
        "colab": {
          "base_uri": "https://localhost:8080/"
        },
        "id": "YPBM8QP5iMe6",
        "outputId": "f02251cc-3cc4-46a7-d1aa-994923b98a87"
      },
      "outputs": [
        {
          "output_type": "stream",
          "name": "stdout",
          "text": [
            "Index of maximum value in Array1: 0\n"
          ]
        }
      ],
      "source": [
        "# Find the index with the maximum value in one of the arrays you've created\n",
        "max_index = np.argmax(array1)\n",
        "print(\"Index of maximum value in Array1:\", max_index)"
      ]
    },
    {
      "cell_type": "code",
      "execution_count": null,
      "metadata": {
        "colab": {
          "base_uri": "https://localhost:8080/"
        },
        "id": "onhkBWfTiMe6",
        "outputId": "a278eed1-2856-48f5-e356-91c9c95bc97e"
      },
      "outputs": [
        {
          "output_type": "stream",
          "name": "stdout",
          "text": [
            "Index of minimum value in Array1: 5\n"
          ]
        }
      ],
      "source": [
        "# Find the index with the minimum value in one of the arrays you've created\n",
        "min_index = np.argmin(array1)\n",
        "print(\"Index of minimum value in Array1:\", min_index)"
      ]
    },
    {
      "cell_type": "code",
      "execution_count": null,
      "metadata": {
        "colab": {
          "base_uri": "https://localhost:8080/"
        },
        "id": "JCR4-5GWiMe6",
        "outputId": "ef1072fa-61ee-442b-85b8-c8e6a20148b1"
      },
      "outputs": [
        {
          "output_type": "stream",
          "name": "stdout",
          "text": [
            "Indexes of max values along axis 1:\n",
            " [0 0 2]\n"
          ]
        }
      ],
      "source": [
        "# Find the indexes with the maximum values down the 1st axis (axis=1)\n",
        "# of one of the arrays you created\n",
        "max_indices_axis1 = np.argmax(array1, axis=1)\n",
        "print(\"Indexes of max values along axis 1:\\n\", max_indices_axis1)"
      ]
    },
    {
      "cell_type": "code",
      "execution_count": null,
      "metadata": {
        "colab": {
          "base_uri": "https://localhost:8080/"
        },
        "id": "CfDFANxLiMe7",
        "outputId": "2303cd3d-13df-4f5c-a882-cedea4bff892"
      },
      "outputs": [
        {
          "output_type": "stream",
          "name": "stdout",
          "text": [
            "Indexes of min values along axis 0:  [2 1 1]\n"
          ]
        }
      ],
      "source": [
        "# Find the indexes with the minimum values across the 0th axis (axis=0)\n",
        "# of one of the arrays you created\n",
        "min_indices_axis0 = np.argmin(array1, axis=0)\n",
        "print(\"Indexes of min values along axis 0: \", min_indices_axis0)\n"
      ]
    },
    {
      "cell_type": "code",
      "execution_count": null,
      "metadata": {
        "colab": {
          "base_uri": "https://localhost:8080/"
        },
        "id": "sNAPLjFjiMe7",
        "outputId": "5e36f56f-e370-409a-d090-68a0604be50a"
      },
      "outputs": [
        {
          "output_type": "stream",
          "name": "stdout",
          "text": [
            "Normally distributed:  [ 0.36139561  1.53803657 -0.03582604  1.56464366 -2.6197451 ]\n"
          ]
        }
      ],
      "source": [
        "# Create an array of normally distributed random numbers\n",
        "arrayn = np.random.randn(5)  # Generates 5 normally distributed numbers\n",
        "print(\"Normally distributed: \", arrayn)"
      ]
    },
    {
      "cell_type": "code",
      "execution_count": null,
      "metadata": {
        "colab": {
          "base_uri": "https://localhost:8080/"
        },
        "id": "Uk2LTvS2iMe7",
        "outputId": "85c4ff57-ec2a-42c2-d954-21fb4e4fd5e5"
      },
      "outputs": [
        {
          "output_type": "stream",
          "name": "stdout",
          "text": [
            "Evenly spaced numbers between 1 and 100:\n",
            " [  1.  12.  23.  34.  45.  56.  67.  78.  89. 100.]\n"
          ]
        }
      ],
      "source": [
        "# Create an array with 10 evenly spaced numbers between 1 and 100\n",
        "arraym = np.linspace(1, 100, 10)\n",
        "print(\"Evenly spaced numbers between 1 and 100: \", arraym)"
      ]
    },
    {
      "cell_type": "markdown",
      "metadata": {
        "id": "2UCxX7XmiMe7"
      },
      "source": [
        "## Extensions\n",
        "\n",
        "For more exercises, check out the [NumPy quickstart tutorial](https://numpy.org/doc/stable/user/quickstart.html). A good practice would be to read through it and for the parts you find interesting, add them into the end of this notebook.\n",
        "\n",
        "Pay particular attention to the section on broadcasting. And most importantly, get hands-on with the code as much as possible. If in dobut, run the code, see what it does.\n",
        "\n",
        "Finally, as always, remember, the best way to learn something new is to try it. And try it relentlessly. If you get interested in some kind of NumPy function, asking yourself, \"I wonder if NumPy could do that?\", go and find out."
      ]
    },
    {
      "cell_type": "markdown",
      "metadata": {
        "id": "6lYmyiAFiMe7"
      },
      "source": [
        "\n",
        "\n"
      ]
    },
    {
      "cell_type": "markdown",
      "metadata": {
        "id": "qyGl9kHMiMe7"
      },
      "source": [
        "What happens when you try to broadcast a (3,) array with a (4,) array?\n",
        "\n",
        "Explain why this operation might fail and how to fix it.\n",
        "my explanantion to fix this:\n",
        "in below code, the last dimension of the 1D array (3,) matches the last dimension of the 2D array (2,3), NumPy automatically broadcasts the operation row-wise.\n"
      ]
    },
    {
      "cell_type": "markdown",
      "source": [],
      "metadata": {
        "id": "sVPXqwVL4kMc"
      }
    },
    {
      "cell_type": "markdown",
      "metadata": {
        "id": "u_WYqGvwiMe8"
      },
      "source": [
        "Broadcasting in NumPy require that the shapes of the arrays must be Equal dimensions/shapes"
      ]
    },
    {
      "cell_type": "code",
      "execution_count": null,
      "metadata": {
        "colab": {
          "base_uri": "https://localhost:8080/"
        },
        "id": "ETQYlOi-iMe8",
        "outputId": "eb0c0ebc-f0e2-4dee-ccba-7edbf9937462"
      },
      "outputs": [
        {
          "output_type": "stream",
          "name": "stdout",
          "text": [
            "Result of adding 1D array to 2D array:\n",
            " [[ 8  7  7]\n",
            " [11 10 10]]\n"
          ]
        }
      ],
      "source": [
        "# code here\n",
        "\n",
        "import numpy as np\n",
        "#shape (2,3)\n",
        "array_2d = np.array([[1, 2, 3], [4, 5, 6]])\n",
        "#shape (3,)\n",
        "array_1d = np.array([7, 5, 4])\n",
        "result = array_2d + array_1d\n",
        "print(\"Result of adding 1D array to 2D array:\\n\", result)"
      ]
    },
    {
      "cell_type": "markdown",
      "metadata": {
        "id": "s3dDC9vbiMe8"
      },
      "source": [
        "Write a NumPy program to add a 1D array of shape (3,) to a 2D array of shape (2, 3).\n"
      ]
    },
    {
      "cell_type": "code",
      "execution_count": null,
      "metadata": {
        "colab": {
          "base_uri": "https://localhost:8080/"
        },
        "id": "AsruatW9iMe8",
        "outputId": "2d419330-8bf9-4325-acbb-a367d884febf"
      },
      "outputs": [
        {
          "output_type": "stream",
          "name": "stdout",
          "text": [
            "[1]\n",
            "[1 0]\n",
            "Result:\n",
            " [2 1]\n"
          ]
        }
      ],
      "source": [
        "#\n",
        "array2 = np.random.randint((2,3))\n",
        "array1 = np.random.randint((3,))\n",
        "result = array2 + array1\n",
        "print(array1)\n",
        "print(array2)\n",
        "print(\"Result:\\n\", result)"
      ]
    },
    {
      "cell_type": "code",
      "execution_count": null,
      "metadata": {
        "id": "oz5GewTpiMe8"
      },
      "outputs": [],
      "source": []
    },
    {
      "cell_type": "markdown",
      "metadata": {
        "id": "ujYeRAv_iMe8"
      },
      "source": [
        "Add a 1D array [10, 20, 30] to each row of a 2D array [[1, 2, 3], [4, 5, 6], [7, 8, 9]]."
      ]
    },
    {
      "cell_type": "code",
      "source": [
        "import numpy as np\n",
        "array_2d = np.array([[1, 2, 3], [4, 5, 6], [7, 8, 9]])\n",
        "array_1d = np.array([10, 20, 30])\n",
        "result = array_2d + array_1d\n",
        "print(\"Result: \", result)"
      ],
      "metadata": {
        "colab": {
          "base_uri": "https://localhost:8080/"
        },
        "id": "0QYIs5wH6jx1",
        "outputId": "93475796-72ae-450e-c253-bc6e2af078ab"
      },
      "execution_count": null,
      "outputs": [
        {
          "output_type": "stream",
          "name": "stdout",
          "text": [
            "Result:  [[11 22 33]\n",
            " [14 25 36]\n",
            " [17 28 39]]\n"
          ]
        }
      ]
    },
    {
      "cell_type": "markdown",
      "metadata": {
        "id": "Eai_YbppiMe8"
      },
      "source": []
    },
    {
      "cell_type": "markdown",
      "metadata": {
        "id": "Ky6AS91DiMe9"
      },
      "source": [
        "Attempt to add a 1D array [10, 20] to a 2D array [[1, 2, 3], [4, 5, 6]]. Explain the error."
      ]
    },
    {
      "cell_type": "code",
      "source": [
        "import numpy as np\n",
        "array_2d = np.array([[1, 2, 3], [4, 5, 6]])\n",
        "array_1d = np.array([10, 20])\n",
        "result = array_2d + array_1d\n",
        "print(\"Result: \", result)\n"
      ],
      "metadata": {
        "colab": {
          "base_uri": "https://localhost:8080/",
          "height": 200
        },
        "id": "_YwovJ0L6xHR",
        "outputId": "c19a02d7-8b91-4e30-c5ba-396a43b01c2e"
      },
      "execution_count": null,
      "outputs": [
        {
          "output_type": "error",
          "ename": "ValueError",
          "evalue": "operands could not be broadcast together with shapes (2,3) (2,) ",
          "traceback": [
            "\u001b[0;31m---------------------------------------------------------------------------\u001b[0m",
            "\u001b[0;31mValueError\u001b[0m                                Traceback (most recent call last)",
            "\u001b[0;32m<ipython-input-96-1bfa0939a0e2>\u001b[0m in \u001b[0;36m<cell line: 0>\u001b[0;34m()\u001b[0m\n\u001b[1;32m      2\u001b[0m \u001b[0marray_2d\u001b[0m \u001b[0;34m=\u001b[0m \u001b[0mnp\u001b[0m\u001b[0;34m.\u001b[0m\u001b[0marray\u001b[0m\u001b[0;34m(\u001b[0m\u001b[0;34m[\u001b[0m\u001b[0;34m[\u001b[0m\u001b[0;36m1\u001b[0m\u001b[0;34m,\u001b[0m \u001b[0;36m2\u001b[0m\u001b[0;34m,\u001b[0m \u001b[0;36m3\u001b[0m\u001b[0;34m]\u001b[0m\u001b[0;34m,\u001b[0m \u001b[0;34m[\u001b[0m\u001b[0;36m4\u001b[0m\u001b[0;34m,\u001b[0m \u001b[0;36m5\u001b[0m\u001b[0;34m,\u001b[0m \u001b[0;36m6\u001b[0m\u001b[0;34m]\u001b[0m\u001b[0;34m]\u001b[0m\u001b[0;34m)\u001b[0m\u001b[0;34m\u001b[0m\u001b[0;34m\u001b[0m\u001b[0m\n\u001b[1;32m      3\u001b[0m \u001b[0marray_1d\u001b[0m \u001b[0;34m=\u001b[0m \u001b[0mnp\u001b[0m\u001b[0;34m.\u001b[0m\u001b[0marray\u001b[0m\u001b[0;34m(\u001b[0m\u001b[0;34m[\u001b[0m\u001b[0;36m10\u001b[0m\u001b[0;34m,\u001b[0m \u001b[0;36m20\u001b[0m\u001b[0;34m]\u001b[0m\u001b[0;34m)\u001b[0m\u001b[0;34m\u001b[0m\u001b[0;34m\u001b[0m\u001b[0m\n\u001b[0;32m----> 4\u001b[0;31m \u001b[0mresult\u001b[0m \u001b[0;34m=\u001b[0m \u001b[0marray_2d\u001b[0m \u001b[0;34m+\u001b[0m \u001b[0marray_1d\u001b[0m\u001b[0;34m\u001b[0m\u001b[0;34m\u001b[0m\u001b[0m\n\u001b[0m\u001b[1;32m      5\u001b[0m \u001b[0mprint\u001b[0m\u001b[0;34m(\u001b[0m\u001b[0;34m\"Result: \"\u001b[0m\u001b[0;34m,\u001b[0m \u001b[0mresult\u001b[0m\u001b[0;34m)\u001b[0m\u001b[0;34m\u001b[0m\u001b[0;34m\u001b[0m\u001b[0m\n",
            "\u001b[0;31mValueError\u001b[0m: operands could not be broadcast together with shapes (2,3) (2,) "
          ]
        }
      ]
    },
    {
      "cell_type": "markdown",
      "metadata": {
        "id": "qcfJ44ayiMe9"
      },
      "source": [
        "The 2D array has a shape of (2,3) and the 1D array has a shape of (2,)\n",
        "broadcasting is not possible because the shapes/dimensions are not equal.\n",
        "\n",
        "also, Since [10, 20]  has only 2 elements, NumPy cannot figure out how to expand it properly, causing a ValueError."
      ]
    },
    {
      "cell_type": "markdown",
      "metadata": {
        "id": "x5owwvX-iMe9"
      },
      "source": [
        "Multiply a 2D array [[1, 2], [3, 4]] with a 1D array [10, 20] using broadcasting."
      ]
    },
    {
      "cell_type": "code",
      "source": [
        "import numpy as np\n",
        "array_2d = np.array([[1, 2], [3, 4]])\n",
        "array_1d = np.array([10, 20])\n",
        "result = array_2d * array_1d\n",
        "print(\"Result: \", result)\n"
      ],
      "metadata": {
        "colab": {
          "base_uri": "https://localhost:8080/"
        },
        "id": "1p9czQTN8_Bu",
        "outputId": "63680472-87f9-4556-89b2-ef0deebd5ce6"
      },
      "execution_count": null,
      "outputs": [
        {
          "output_type": "stream",
          "name": "stdout",
          "text": [
            "Result:  [[10 40]\n",
            " [30 80]]\n"
          ]
        }
      ]
    },
    {
      "cell_type": "markdown",
      "metadata": {
        "id": "n5rCauIYiMe9"
      },
      "source": []
    }
  ],
  "metadata": {
    "kernelspec": {
      "display_name": "Python 3",
      "language": "python",
      "name": "python3"
    },
    "language_info": {
      "codemirror_mode": {
        "name": "ipython",
        "version": 3
      },
      "file_extension": ".py",
      "mimetype": "text/x-python",
      "name": "python",
      "nbconvert_exporter": "python",
      "pygments_lexer": "ipython3",
      "version": "3.8.3"
    },
    "colab": {
      "provenance": []
    }
  },
  "nbformat": 4,
  "nbformat_minor": 0
}